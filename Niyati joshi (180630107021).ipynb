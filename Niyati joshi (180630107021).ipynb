{
 "cells": [
  {
   "cell_type": "markdown",
   "metadata": {},
   "source": [
    "# Python program to print hello world!!"
   ]
  },
  {
   "cell_type": "code",
   "execution_count": 1,
   "metadata": {},
   "outputs": [
    {
     "name": "stdout",
     "output_type": "stream",
     "text": [
      "Hello Niyati Joshi\n",
      "Enrollment no 180630107021\n"
     ]
    }
   ],
   "source": [
    "print(\"Hello Niyati Joshi\")\n",
    "print(\"Enrollment no 180630107021\")"
   ]
  },
  {
   "cell_type": "markdown",
   "metadata": {},
   "source": [
    "# python program to add two numbers."
   ]
  },
  {
   "cell_type": "code",
   "execution_count": 6,
   "metadata": {},
   "outputs": [
    {
     "name": "stdout",
     "output_type": "stream",
     "text": [
      "enter the 1st number1\n",
      "enter the 2nd number2\n",
      "answer is: 3\n",
      "Niyati Joshi\n",
      "Enrollment is : 180630107021\n"
     ]
    }
   ],
   "source": [
    "a=int(input(\"enter the 1st number\"))\n",
    "b=int(input(\"enter the 2nd number\"))\n",
    "c=a+b\n",
    "print(\"answer is:\",c)\n",
    "print(\"Niyati Joshi\")\n",
    "print(\"Enrollment is : 180630107021\")\n"
   ]
  },
  {
   "cell_type": "markdown",
   "metadata": {},
   "source": [
    "# python program to find square root."
   ]
  },
  {
   "cell_type": "code",
   "execution_count": 7,
   "metadata": {},
   "outputs": [
    {
     "name": "stdout",
     "output_type": "stream",
     "text": [
      "Enter number:5\n",
      "answer is: 2.23606797749979\n",
      "Niyati Joshi\n",
      "Enrollment no : 180630107021\n"
     ]
    }
   ],
   "source": [
    "a=input(\"Enter number:\")\n",
    "r=float(a)**0.5;\n",
    "print(\"answer is:\",r)\n",
    "print(\"Niyati Joshi\")\n",
    "print(\"Enrollment no : 180630107021\")"
   ]
  },
  {
   "cell_type": "markdown",
   "metadata": {},
   "source": [
    "# python program to calculate area of triangle."
   ]
  },
  {
   "cell_type": "code",
   "execution_count": 8,
   "metadata": {},
   "outputs": [
    {
     "name": "stdout",
     "output_type": "stream",
     "text": [
      "enter the base :4\n",
      "enter the height :2\n",
      "answer is : 4.0\n",
      "Niyati Joshi\n",
      "Enrollment is : 180630107021\n"
     ]
    }
   ],
   "source": [
    "b=input(\"enter the base :\")\n",
    "h=input(\"enter the height :\")\n",
    "area=(0.5 * float(h) * float(b))\n",
    "print(\"answer is :\",area)\n",
    "print(\"Niyati Joshi\")\n",
    "print(\"Enrollment is : 180630107021\")\n",
    "\n"
   ]
  },
  {
   "cell_type": "markdown",
   "metadata": {},
   "source": [
    "# python program to solve quadratic equation."
   ]
  },
  {
   "cell_type": "code",
   "execution_count": 11,
   "metadata": {},
   "outputs": [
    {
     "name": "stdout",
     "output_type": "stream",
     "text": [
      "Quadratic function : (a * x^2)  + b*x + c\n",
      "a: 5\n",
      "b: 20\n",
      "c: 10\n",
      "There are 2 roots: -0.585786 and -3.414214\n",
      "Niyati Joshi\n",
      "Enrollment is : 180630107021\n"
     ]
    }
   ],
   "source": [
    "from math import sqrt\n",
    "\n",
    "print(\"Quadratic function : (a * x^2)  + b*x + c\")\n",
    "a= float(input(\"a: \"))\n",
    "b= float(input(\"b: \"))\n",
    "c= float(input(\"c: \"))\n",
    "\n",
    "r = b**2 - 4*a*c\n",
    "\n",
    "if r > 0:\n",
    "    num_roots = 2\n",
    "    x1 = (((-b) + sqrt(r))/(2*a))\n",
    "    x2=  (((-b) - sqrt(r))/(2*a))\n",
    "    print(\"There are 2 roots: %f and %f\" % (x1, x2))\n",
    "elif r == 0:\n",
    "    num_roots =1\n",
    "    x =(-b) / 2*a\n",
    "    print(\"There is one root:\", x)\n",
    "else:\n",
    "    num_roots = 0\n",
    "    print(\"No roots, discriminant < 0,\")\n",
    "    exit()\n",
    "    \n",
    "print(\"Niyati Joshi\")\n",
    "print(\"Enrollment is : 180630107021\")\n",
    "    \n",
    "    \n",
    "          "
   ]
  },
  {
   "cell_type": "markdown",
   "metadata": {},
   "source": [
    "# python program to swap two variables."
   ]
  },
  {
   "cell_type": "code",
   "execution_count": 12,
   "metadata": {},
   "outputs": [
    {
     "name": "stdout",
     "output_type": "stream",
     "text": [
      "enter 1st number:3\n",
      "enter 2nd number:4\n",
      "1st number : 3\n",
      "2nd number : 4\n",
      "after swapping\n",
      "1st number : 4\n",
      "2nd number : 3\n",
      "Niyati Joshi\n",
      "Enrollment no : 180630107021\n"
     ]
    }
   ],
   "source": [
    "a=input(\"enter 1st number:\")\n",
    "b=input(\"enter 2nd number:\")\n",
    "print(\"1st number :\",a)\n",
    "print(\"2nd number :\",b)\n",
    "\n",
    "temp=a\n",
    "a=b\n",
    "b=temp\n",
    "print(\"after swapping\")\n",
    "print(\"1st number :\",a)\n",
    "print(\"2nd number :\",b)\n",
    "print(\"Niyati Joshi\")\n",
    "print(\"Enrollment no : 180630107021\")"
   ]
  },
  {
   "cell_type": "markdown",
   "metadata": {},
   "source": [
    "# python program to generate a random number."
   ]
  },
  {
   "cell_type": "code",
   "execution_count": 22,
   "metadata": {},
   "outputs": [
    {
     "name": "stdout",
     "output_type": "stream",
     "text": [
      "7\n",
      "Niyati Joshi\n",
      "Enrollment number: 180630107021\n"
     ]
    }
   ],
   "source": [
    "import random\n",
    "\n",
    "print(random.randint(0,9))\n",
    "print(\"Niyati Joshi\")\n",
    "print(\"Enrollment number: 180630107021\")"
   ]
  },
  {
   "cell_type": "markdown",
   "metadata": {},
   "source": [
    "# python program to convert kilometers to Miles."
   ]
  },
  {
   "cell_type": "code",
   "execution_count": 24,
   "metadata": {},
   "outputs": [
    {
     "name": "stdout",
     "output_type": "stream",
     "text": [
      "enter value in km:3\n",
      "1.8641130000000001\n",
      "Niyati Joshi\n",
      "Enrollment number: 180630107021\n"
     ]
    }
   ],
   "source": [
    "kilometers=float(input(\"enter value in km:\"))\n",
    "f=0.621371\n",
    "miles=kilometers*f\n",
    "print(miles)\n",
    "print(\"Niyati Joshi\")\n",
    "print(\"Enrollment number: 180630107021\")"
   ]
  },
  {
   "cell_type": "markdown",
   "metadata": {},
   "source": [
    "# python program to convert celsius To fahrenheit.\n"
   ]
  },
  {
   "cell_type": "code",
   "execution_count": 25,
   "metadata": {},
   "outputs": [
    {
     "name": "stdout",
     "output_type": "stream",
     "text": [
      "enter celsius:32\n",
      "89.6\n",
      "Niyati Joshi\n",
      "Enrollment number: 180630107021\n"
     ]
    }
   ],
   "source": [
    "celsius = float(input(\"enter celsius:\"))\n",
    "fahrenheit = (celsius * 1.8) + 32\n",
    "print(fahrenheit)\n",
    "print(\"Niyati Joshi\")\n",
    "print(\"Enrollment number: 180630107021\")"
   ]
  },
  {
   "cell_type": "code",
   "execution_count": null,
   "metadata": {},
   "outputs": [],
   "source": []
  }
 ],
 "metadata": {
  "kernelspec": {
   "display_name": "Python 3",
   "language": "python",
   "name": "python3"
  },
  "language_info": {
   "codemirror_mode": {
    "name": "ipython",
    "version": 3
   },
   "file_extension": ".py",
   "mimetype": "text/x-python",
   "name": "python",
   "nbconvert_exporter": "python",
   "pygments_lexer": "ipython3",
   "version": "3.7.6"
  }
 },
 "nbformat": 4,
 "nbformat_minor": 4
}
